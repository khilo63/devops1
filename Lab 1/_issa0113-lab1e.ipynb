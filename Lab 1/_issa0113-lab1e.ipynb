{
 "cells": [
  {
   "cell_type": "markdown",
   "id": "6f270c9e-9c63-489d-a0e2-46ab6eb1bf97",
   "metadata": {},
   "source": [
    "Shebangs:\n",
    "#!/usr/bin/env python3: This is a shebang line indicating that the script should be executed using Python 3.\n",
    "\n",
    "This Python script that I just wrote demonstrates:\n",
    "basic math operations like addition, subtraction, multiplication, division, and exponents.\n",
    "It shows how operator precedence works, with parentheses altering the default order.\n",
    "At the end, it uses variables in a formatted string to display the result of a simple calculation."
   ]
  },
  {
   "cell_type": "code",
   "execution_count": null,
   "id": "73e8ba81-f2a0-4583-86e7-0b0a90b65cd9",
   "metadata": {},
   "outputs": [],
   "source": [
    "#!/usr/bin/env python3\n",
    "#!/cd~/net2008/lab1/\n",
    "#!/./issa0113-lab1d.py\n",
    "\n",
    "\n",
    "#Math Operators\n",
    "\n",
    "print(10 + 5)  # addition\n",
    "print(10 - 5)  # subtraction\n",
    "print(10 * 5)  # multiplication\n",
    "print(10 / 5)   # division\n",
    "print(10 ** 5) # exponents\n",
    "\n",
    "\n",
    "\n",
    "print(10 + 5 * 2)  # multiplication happens before addition\n",
    "print((10 + 5) * 2)  # parentheses happen before multiplication\n",
    "print(10 + 5 * 2 - 10 ** 2)  # first exponents, then multiplication, then addition and subtraction from left-to-right\n",
    "print(15 / 3 * 4) # division and multiplication happen from left-to-right\n",
    "print(100 / ((5 + 5) * 2)) # the inner most parentheses are first performing addition, then parentheses again with mult\n",
    "\n",
    "x = 10\n",
    "y = 2\n",
    "z = 5\n",
    "\n",
    "result = 20\n",
    "print(f\"{x} + {y} * {z} = {result}\")"
   ]
  },
  {
   "cell_type": "code",
   "execution_count": null,
   "id": "e49ba049-331d-42c9-bfe9-58e23f640175",
   "metadata": {},
   "outputs": [],
   "source": []
  },
  {
   "cell_type": "code",
   "execution_count": null,
   "id": "a4191f37-b492-4e1e-a341-c2901d5b21fa",
   "metadata": {},
   "outputs": [],
   "source": []
  }
 ],
 "metadata": {
  "kernelspec": {
   "display_name": "Python 3 (ipykernel)",
   "language": "python",
   "name": "python3"
  },
  "language_info": {
   "codemirror_mode": {
    "name": "ipython",
    "version": 3
   },
   "file_extension": ".py",
   "mimetype": "text/x-python",
   "name": "python",
   "nbconvert_exporter": "python",
   "pygments_lexer": "ipython3",
   "version": "3.12.4"
  }
 },
 "nbformat": 4,
 "nbformat_minor": 5
}
